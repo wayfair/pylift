{
 "cells": [
  {
   "cell_type": "markdown",
   "metadata": {},
   "source": [
    "# pylift example on the Lalonde dataset"
   ]
  },
  {
   "cell_type": "markdown",
   "metadata": {},
   "source": [
    "Lalonde dataset was used to evaluate propensity score in the paper:\n",
    "\n",
    "Dehejia, R., & Wahba, S. (1999). Causal Effects in Nonexperimental Studies: Reevaluating the Evaluation of Training Programs. Journal of the American Statistical Association, 94(448), 1053-1062. doi:10.2307/2669919\n",
    "\n",
    "\n",
    "Lalonde dataset is now included in \"Matching\" package available in R. \n",
    "\n",
    "http://sekhon.berkeley.edu/matching/lalonde.html\n",
    "\n",
    "\n",
    "The original Lalonde dataset was used in the paper:\n",
    "\n",
    "LaLonde, R. (1986). Evaluating the Econometric Evaluations of Training Programs with Experimental Data. The American Economic Review, 76(4), 604-620. Retrieved from http://www.jstor.org/stable/1806062\n",
    "\n",
    "\n",
    "To use for pylift in Python, Lalonde dataset can be retrieved from:\n",
    "\n",
    "https://users.nber.org/~rdehejia/nswdata.html"
   ]
  },
  {
   "cell_type": "code",
   "execution_count": 1,
   "metadata": {
    "ExecuteTime": {
     "end_time": "2018-10-02T22:52:56.325381Z",
     "start_time": "2018-10-02T22:52:56.000938Z"
    },
    "collapsed": true
   },
   "outputs": [],
   "source": [
    "%reload_ext autoreload\n",
    "%autoreload 2\n",
    "%matplotlib inline"
   ]
  },
  {
   "cell_type": "code",
   "execution_count": 2,
   "metadata": {
    "ExecuteTime": {
     "end_time": "2018-10-02T22:52:57.044432Z",
     "start_time": "2018-10-02T22:52:56.457251Z"
    },
    "collapsed": true,
    "scrolled": true
   },
   "outputs": [],
   "source": [
    "import numpy as np, matplotlib as mpl, matplotlib.pyplot as plt, pandas as pd\n",
    "from pylift import TransformedOutcome"
   ]
  },
  {
   "cell_type": "code",
   "execution_count": 3,
   "metadata": {
    "collapsed": true
   },
   "outputs": [],
   "source": [
    "pd.options.display.max_rows = 12"
   ]
  },
  {
   "cell_type": "markdown",
   "metadata": {},
   "source": [
    "## Load datasets, concatenate, and create features (align with \"Matching\" package available in R)"
   ]
  },
  {
   "cell_type": "code",
   "execution_count": 4,
   "metadata": {
    "collapsed": true
   },
   "outputs": [],
   "source": [
    "cols = ['treat', 'age', 'educ', 'black', 'hisp', 'married', 'nodegr','re74','re75','re78']\n",
    "control_df = pd.read_csv('http://www.nber.org/~rdehejia/data/nswre74_control.txt', sep='\\s+', header = None, names = cols)\n",
    "treated_df = pd.read_csv('http://www.nber.org/~rdehejia/data/nswre74_treated.txt', sep='\\s+', header = None, names = cols)\n",
    "lalonde_df = pd.concat([control_df, treated_df], ignore_index=True)\n",
    "lalonde_df['u74'] = np.where(lalonde_df['re74'] == 0, 1.0, 0.0)\n",
    "lalonde_df['u75'] = np.where(lalonde_df['re75'] == 0, 1.0, 0.0)"
   ]
  },
  {
   "cell_type": "markdown",
   "metadata": {},
   "source": [
    "## Prepare the input Data Frame for pylift."
   ]
  },
  {
   "cell_type": "code",
   "execution_count": 5,
   "metadata": {
    "collapsed": true
   },
   "outputs": [],
   "source": [
    "df = lalonde_df[['nodegr', 'black', 'hisp', 'age', 'educ', 'married', 'u74', 'u75', 'treat', 're78']].copy()\n",
    "df.rename(columns={'treat':'Treatment', 're78':'Outcome'}, inplace=True)\n",
    "df['Outcome'] = np.where(df['Outcome'] > 0, 1.0, 0.0)"
   ]
  },
  {
   "cell_type": "code",
   "execution_count": 6,
   "metadata": {},
   "outputs": [
    {
     "data": {
      "text/html": [
       "<div>\n",
       "<style scoped>\n",
       "    .dataframe tbody tr th:only-of-type {\n",
       "        vertical-align: middle;\n",
       "    }\n",
       "\n",
       "    .dataframe tbody tr th {\n",
       "        vertical-align: top;\n",
       "    }\n",
       "\n",
       "    .dataframe thead th {\n",
       "        text-align: right;\n",
       "    }\n",
       "</style>\n",
       "<table border=\"1\" class=\"dataframe\">\n",
       "  <thead>\n",
       "    <tr style=\"text-align: right;\">\n",
       "      <th></th>\n",
       "      <th>nodegr</th>\n",
       "      <th>black</th>\n",
       "      <th>hisp</th>\n",
       "      <th>age</th>\n",
       "      <th>educ</th>\n",
       "      <th>married</th>\n",
       "      <th>u74</th>\n",
       "      <th>u75</th>\n",
       "      <th>Treatment</th>\n",
       "      <th>Outcome</th>\n",
       "    </tr>\n",
       "  </thead>\n",
       "  <tbody>\n",
       "    <tr>\n",
       "      <th>0</th>\n",
       "      <td>1.0</td>\n",
       "      <td>1.0</td>\n",
       "      <td>0.0</td>\n",
       "      <td>23.0</td>\n",
       "      <td>10.0</td>\n",
       "      <td>0.0</td>\n",
       "      <td>1.0</td>\n",
       "      <td>1.0</td>\n",
       "      <td>0.0</td>\n",
       "      <td>0.0</td>\n",
       "    </tr>\n",
       "    <tr>\n",
       "      <th>1</th>\n",
       "      <td>0.0</td>\n",
       "      <td>0.0</td>\n",
       "      <td>0.0</td>\n",
       "      <td>26.0</td>\n",
       "      <td>12.0</td>\n",
       "      <td>0.0</td>\n",
       "      <td>1.0</td>\n",
       "      <td>1.0</td>\n",
       "      <td>0.0</td>\n",
       "      <td>1.0</td>\n",
       "    </tr>\n",
       "    <tr>\n",
       "      <th>2</th>\n",
       "      <td>1.0</td>\n",
       "      <td>1.0</td>\n",
       "      <td>0.0</td>\n",
       "      <td>22.0</td>\n",
       "      <td>9.0</td>\n",
       "      <td>0.0</td>\n",
       "      <td>1.0</td>\n",
       "      <td>1.0</td>\n",
       "      <td>0.0</td>\n",
       "      <td>0.0</td>\n",
       "    </tr>\n",
       "    <tr>\n",
       "      <th>3</th>\n",
       "      <td>1.0</td>\n",
       "      <td>1.0</td>\n",
       "      <td>0.0</td>\n",
       "      <td>18.0</td>\n",
       "      <td>9.0</td>\n",
       "      <td>0.0</td>\n",
       "      <td>1.0</td>\n",
       "      <td>1.0</td>\n",
       "      <td>0.0</td>\n",
       "      <td>1.0</td>\n",
       "    </tr>\n",
       "    <tr>\n",
       "      <th>4</th>\n",
       "      <td>1.0</td>\n",
       "      <td>1.0</td>\n",
       "      <td>0.0</td>\n",
       "      <td>45.0</td>\n",
       "      <td>11.0</td>\n",
       "      <td>0.0</td>\n",
       "      <td>1.0</td>\n",
       "      <td>1.0</td>\n",
       "      <td>0.0</td>\n",
       "      <td>1.0</td>\n",
       "    </tr>\n",
       "    <tr>\n",
       "      <th>5</th>\n",
       "      <td>1.0</td>\n",
       "      <td>1.0</td>\n",
       "      <td>0.0</td>\n",
       "      <td>18.0</td>\n",
       "      <td>9.0</td>\n",
       "      <td>0.0</td>\n",
       "      <td>1.0</td>\n",
       "      <td>1.0</td>\n",
       "      <td>0.0</td>\n",
       "      <td>1.0</td>\n",
       "    </tr>\n",
       "    <tr>\n",
       "      <th>...</th>\n",
       "      <td>...</td>\n",
       "      <td>...</td>\n",
       "      <td>...</td>\n",
       "      <td>...</td>\n",
       "      <td>...</td>\n",
       "      <td>...</td>\n",
       "      <td>...</td>\n",
       "      <td>...</td>\n",
       "      <td>...</td>\n",
       "      <td>...</td>\n",
       "    </tr>\n",
       "    <tr>\n",
       "      <th>439</th>\n",
       "      <td>1.0</td>\n",
       "      <td>0.0</td>\n",
       "      <td>1.0</td>\n",
       "      <td>29.0</td>\n",
       "      <td>10.0</td>\n",
       "      <td>0.0</td>\n",
       "      <td>1.0</td>\n",
       "      <td>0.0</td>\n",
       "      <td>1.0</td>\n",
       "      <td>1.0</td>\n",
       "    </tr>\n",
       "    <tr>\n",
       "      <th>440</th>\n",
       "      <td>0.0</td>\n",
       "      <td>1.0</td>\n",
       "      <td>0.0</td>\n",
       "      <td>33.0</td>\n",
       "      <td>12.0</td>\n",
       "      <td>1.0</td>\n",
       "      <td>0.0</td>\n",
       "      <td>0.0</td>\n",
       "      <td>1.0</td>\n",
       "      <td>1.0</td>\n",
       "    </tr>\n",
       "    <tr>\n",
       "      <th>441</th>\n",
       "      <td>0.0</td>\n",
       "      <td>1.0</td>\n",
       "      <td>0.0</td>\n",
       "      <td>25.0</td>\n",
       "      <td>14.0</td>\n",
       "      <td>1.0</td>\n",
       "      <td>0.0</td>\n",
       "      <td>0.0</td>\n",
       "      <td>1.0</td>\n",
       "      <td>1.0</td>\n",
       "    </tr>\n",
       "    <tr>\n",
       "      <th>442</th>\n",
       "      <td>1.0</td>\n",
       "      <td>1.0</td>\n",
       "      <td>0.0</td>\n",
       "      <td>35.0</td>\n",
       "      <td>9.0</td>\n",
       "      <td>1.0</td>\n",
       "      <td>0.0</td>\n",
       "      <td>0.0</td>\n",
       "      <td>1.0</td>\n",
       "      <td>1.0</td>\n",
       "    </tr>\n",
       "    <tr>\n",
       "      <th>443</th>\n",
       "      <td>1.0</td>\n",
       "      <td>1.0</td>\n",
       "      <td>0.0</td>\n",
       "      <td>35.0</td>\n",
       "      <td>8.0</td>\n",
       "      <td>1.0</td>\n",
       "      <td>0.0</td>\n",
       "      <td>0.0</td>\n",
       "      <td>1.0</td>\n",
       "      <td>1.0</td>\n",
       "    </tr>\n",
       "    <tr>\n",
       "      <th>444</th>\n",
       "      <td>1.0</td>\n",
       "      <td>1.0</td>\n",
       "      <td>0.0</td>\n",
       "      <td>33.0</td>\n",
       "      <td>11.0</td>\n",
       "      <td>1.0</td>\n",
       "      <td>0.0</td>\n",
       "      <td>0.0</td>\n",
       "      <td>1.0</td>\n",
       "      <td>1.0</td>\n",
       "    </tr>\n",
       "  </tbody>\n",
       "</table>\n",
       "<p>445 rows × 10 columns</p>\n",
       "</div>"
      ],
      "text/plain": [
       "     nodegr  black  hisp   age  educ  married  u74  u75  Treatment  Outcome\n",
       "0       1.0    1.0   0.0  23.0  10.0      0.0  1.0  1.0        0.0      0.0\n",
       "1       0.0    0.0   0.0  26.0  12.0      0.0  1.0  1.0        0.0      1.0\n",
       "2       1.0    1.0   0.0  22.0   9.0      0.0  1.0  1.0        0.0      0.0\n",
       "3       1.0    1.0   0.0  18.0   9.0      0.0  1.0  1.0        0.0      1.0\n",
       "4       1.0    1.0   0.0  45.0  11.0      0.0  1.0  1.0        0.0      1.0\n",
       "5       1.0    1.0   0.0  18.0   9.0      0.0  1.0  1.0        0.0      1.0\n",
       "..      ...    ...   ...   ...   ...      ...  ...  ...        ...      ...\n",
       "439     1.0    0.0   1.0  29.0  10.0      0.0  1.0  0.0        1.0      1.0\n",
       "440     0.0    1.0   0.0  33.0  12.0      1.0  0.0  0.0        1.0      1.0\n",
       "441     0.0    1.0   0.0  25.0  14.0      1.0  0.0  0.0        1.0      1.0\n",
       "442     1.0    1.0   0.0  35.0   9.0      1.0  0.0  0.0        1.0      1.0\n",
       "443     1.0    1.0   0.0  35.0   8.0      1.0  0.0  0.0        1.0      1.0\n",
       "444     1.0    1.0   0.0  33.0  11.0      1.0  0.0  0.0        1.0      1.0\n",
       "\n",
       "[445 rows x 10 columns]"
      ]
     },
     "execution_count": 6,
     "metadata": {},
     "output_type": "execute_result"
    }
   ],
   "source": [
    "df"
   ]
  },
  {
   "cell_type": "markdown",
   "metadata": {},
   "source": [
    "## Cross-tabulation of Treatment and Outcome"
   ]
  },
  {
   "cell_type": "code",
   "execution_count": 7,
   "metadata": {},
   "outputs": [
    {
     "data": {
      "text/html": [
       "<div>\n",
       "<style scoped>\n",
       "    .dataframe tbody tr th:only-of-type {\n",
       "        vertical-align: middle;\n",
       "    }\n",
       "\n",
       "    .dataframe tbody tr th {\n",
       "        vertical-align: top;\n",
       "    }\n",
       "\n",
       "    .dataframe thead th {\n",
       "        text-align: right;\n",
       "    }\n",
       "</style>\n",
       "<table border=\"1\" class=\"dataframe\">\n",
       "  <thead>\n",
       "    <tr style=\"text-align: right;\">\n",
       "      <th>Treatment</th>\n",
       "      <th>0.0</th>\n",
       "      <th>1.0</th>\n",
       "      <th>All</th>\n",
       "    </tr>\n",
       "    <tr>\n",
       "      <th>Outcome</th>\n",
       "      <th></th>\n",
       "      <th></th>\n",
       "      <th></th>\n",
       "    </tr>\n",
       "  </thead>\n",
       "  <tbody>\n",
       "    <tr>\n",
       "      <th>0.0</th>\n",
       "      <td>92</td>\n",
       "      <td>45</td>\n",
       "      <td>137</td>\n",
       "    </tr>\n",
       "    <tr>\n",
       "      <th>1.0</th>\n",
       "      <td>168</td>\n",
       "      <td>140</td>\n",
       "      <td>308</td>\n",
       "    </tr>\n",
       "    <tr>\n",
       "      <th>All</th>\n",
       "      <td>260</td>\n",
       "      <td>185</td>\n",
       "      <td>445</td>\n",
       "    </tr>\n",
       "  </tbody>\n",
       "</table>\n",
       "</div>"
      ],
      "text/plain": [
       "Treatment  0.0  1.0  All\n",
       "Outcome                 \n",
       "0.0         92   45  137\n",
       "1.0        168  140  308\n",
       "All        260  185  445"
      ]
     },
     "execution_count": 7,
     "metadata": {},
     "output_type": "execute_result"
    }
   ],
   "source": [
    "pd.crosstab(df['Outcome'], df['Treatment'], margins = True)"
   ]
  },
  {
   "cell_type": "markdown",
   "metadata": {},
   "source": [
    "## Cross-tabulation of Treatment and Outcome in Percentage"
   ]
  },
  {
   "cell_type": "code",
   "execution_count": 8,
   "metadata": {},
   "outputs": [
    {
     "data": {
      "text/html": [
       "<div>\n",
       "<style scoped>\n",
       "    .dataframe tbody tr th:only-of-type {\n",
       "        vertical-align: middle;\n",
       "    }\n",
       "\n",
       "    .dataframe tbody tr th {\n",
       "        vertical-align: top;\n",
       "    }\n",
       "\n",
       "    .dataframe thead th {\n",
       "        text-align: right;\n",
       "    }\n",
       "</style>\n",
       "<table border=\"1\" class=\"dataframe\">\n",
       "  <thead>\n",
       "    <tr style=\"text-align: right;\">\n",
       "      <th>Treatment</th>\n",
       "      <th>0.0</th>\n",
       "      <th>1.0</th>\n",
       "      <th>All</th>\n",
       "    </tr>\n",
       "    <tr>\n",
       "      <th>Outcome</th>\n",
       "      <th></th>\n",
       "      <th></th>\n",
       "      <th></th>\n",
       "    </tr>\n",
       "  </thead>\n",
       "  <tbody>\n",
       "    <tr>\n",
       "      <th>0.0</th>\n",
       "      <td>0.206742</td>\n",
       "      <td>0.101124</td>\n",
       "      <td>0.307865</td>\n",
       "    </tr>\n",
       "    <tr>\n",
       "      <th>1.0</th>\n",
       "      <td>0.377528</td>\n",
       "      <td>0.314607</td>\n",
       "      <td>0.692135</td>\n",
       "    </tr>\n",
       "    <tr>\n",
       "      <th>All</th>\n",
       "      <td>0.584270</td>\n",
       "      <td>0.415730</td>\n",
       "      <td>1.000000</td>\n",
       "    </tr>\n",
       "  </tbody>\n",
       "</table>\n",
       "</div>"
      ],
      "text/plain": [
       "Treatment       0.0       1.0       All\n",
       "Outcome                                \n",
       "0.0        0.206742  0.101124  0.307865\n",
       "1.0        0.377528  0.314607  0.692135\n",
       "All        0.584270  0.415730  1.000000"
      ]
     },
     "execution_count": 8,
     "metadata": {},
     "output_type": "execute_result"
    }
   ],
   "source": [
    "pd.crosstab(df['Outcome'], df['Treatment'], margins = True, normalize=True)"
   ]
  },
  {
   "cell_type": "markdown",
   "metadata": {},
   "source": [
    "## Correlation"
   ]
  },
  {
   "cell_type": "code",
   "execution_count": 9,
   "metadata": {},
   "outputs": [
    {
     "data": {
      "text/html": [
       "<div>\n",
       "<style scoped>\n",
       "    .dataframe tbody tr th:only-of-type {\n",
       "        vertical-align: middle;\n",
       "    }\n",
       "\n",
       "    .dataframe tbody tr th {\n",
       "        vertical-align: top;\n",
       "    }\n",
       "\n",
       "    .dataframe thead th {\n",
       "        text-align: right;\n",
       "    }\n",
       "</style>\n",
       "<table border=\"1\" class=\"dataframe\">\n",
       "  <thead>\n",
       "    <tr style=\"text-align: right;\">\n",
       "      <th></th>\n",
       "      <th>nodegr</th>\n",
       "      <th>black</th>\n",
       "      <th>hisp</th>\n",
       "      <th>age</th>\n",
       "      <th>educ</th>\n",
       "      <th>married</th>\n",
       "      <th>u74</th>\n",
       "      <th>u75</th>\n",
       "      <th>Treatment</th>\n",
       "      <th>Outcome</th>\n",
       "    </tr>\n",
       "  </thead>\n",
       "  <tbody>\n",
       "    <tr>\n",
       "      <th>nodegr</th>\n",
       "      <td>1.000000</td>\n",
       "      <td>0.041948</td>\n",
       "      <td>0.086638</td>\n",
       "      <td>-0.112838</td>\n",
       "      <td>-0.635575</td>\n",
       "      <td>-0.038554</td>\n",
       "      <td>0.049934</td>\n",
       "      <td>0.079798</td>\n",
       "      <td>-0.151012</td>\n",
       "      <td>-0.045548</td>\n",
       "    </tr>\n",
       "    <tr>\n",
       "      <th>black</th>\n",
       "      <td>0.041948</td>\n",
       "      <td>1.000000</td>\n",
       "      <td>-0.693969</td>\n",
       "      <td>0.087171</td>\n",
       "      <td>0.045405</td>\n",
       "      <td>0.023731</td>\n",
       "      <td>0.030152</td>\n",
       "      <td>0.038685</td>\n",
       "      <td>0.021602</td>\n",
       "      <td>-0.167117</td>\n",
       "    </tr>\n",
       "    <tr>\n",
       "      <th>hisp</th>\n",
       "      <td>0.086638</td>\n",
       "      <td>-0.693969</td>\n",
       "      <td>1.000000</td>\n",
       "      <td>-0.090157</td>\n",
       "      <td>-0.144835</td>\n",
       "      <td>0.009064</td>\n",
       "      <td>-0.046158</td>\n",
       "      <td>0.011191</td>\n",
       "      <td>-0.084066</td>\n",
       "      <td>0.120627</td>\n",
       "    </tr>\n",
       "    <tr>\n",
       "      <th>age</th>\n",
       "      <td>-0.112838</td>\n",
       "      <td>0.087171</td>\n",
       "      <td>-0.090157</td>\n",
       "      <td>1.000000</td>\n",
       "      <td>0.022964</td>\n",
       "      <td>0.210072</td>\n",
       "      <td>0.102457</td>\n",
       "      <td>0.075597</td>\n",
       "      <td>0.052977</td>\n",
       "      <td>-0.010435</td>\n",
       "    </tr>\n",
       "    <tr>\n",
       "      <th>educ</th>\n",
       "      <td>-0.635575</td>\n",
       "      <td>0.045405</td>\n",
       "      <td>-0.144835</td>\n",
       "      <td>0.022964</td>\n",
       "      <td>1.000000</td>\n",
       "      <td>0.081613</td>\n",
       "      <td>-0.092843</td>\n",
       "      <td>-0.127603</td>\n",
       "      <td>0.070890</td>\n",
       "      <td>0.004852</td>\n",
       "    </tr>\n",
       "    <tr>\n",
       "      <th>married</th>\n",
       "      <td>-0.038554</td>\n",
       "      <td>0.023731</td>\n",
       "      <td>0.009064</td>\n",
       "      <td>0.210072</td>\n",
       "      <td>0.081613</td>\n",
       "      <td>1.000000</td>\n",
       "      <td>-0.080614</td>\n",
       "      <td>-0.096973</td>\n",
       "      <td>0.046531</td>\n",
       "      <td>0.027178</td>\n",
       "    </tr>\n",
       "    <tr>\n",
       "      <th>u74</th>\n",
       "      <td>0.049934</td>\n",
       "      <td>0.030152</td>\n",
       "      <td>-0.046158</td>\n",
       "      <td>0.102457</td>\n",
       "      <td>-0.092843</td>\n",
       "      <td>-0.080614</td>\n",
       "      <td>1.000000</td>\n",
       "      <td>0.726574</td>\n",
       "      <td>-0.046647</td>\n",
       "      <td>-0.061988</td>\n",
       "    </tr>\n",
       "    <tr>\n",
       "      <th>u75</th>\n",
       "      <td>0.079798</td>\n",
       "      <td>0.038685</td>\n",
       "      <td>0.011191</td>\n",
       "      <td>0.075597</td>\n",
       "      <td>-0.127603</td>\n",
       "      <td>-0.096973</td>\n",
       "      <td>0.726574</td>\n",
       "      <td>1.000000</td>\n",
       "      <td>-0.087400</td>\n",
       "      <td>-0.061491</td>\n",
       "    </tr>\n",
       "    <tr>\n",
       "      <th>Treatment</th>\n",
       "      <td>-0.151012</td>\n",
       "      <td>0.021602</td>\n",
       "      <td>-0.084066</td>\n",
       "      <td>0.052977</td>\n",
       "      <td>0.070890</td>\n",
       "      <td>0.046531</td>\n",
       "      <td>-0.046647</td>\n",
       "      <td>-0.087400</td>\n",
       "      <td>1.000000</td>\n",
       "      <td>0.118087</td>\n",
       "    </tr>\n",
       "    <tr>\n",
       "      <th>Outcome</th>\n",
       "      <td>-0.045548</td>\n",
       "      <td>-0.167117</td>\n",
       "      <td>0.120627</td>\n",
       "      <td>-0.010435</td>\n",
       "      <td>0.004852</td>\n",
       "      <td>0.027178</td>\n",
       "      <td>-0.061988</td>\n",
       "      <td>-0.061491</td>\n",
       "      <td>0.118087</td>\n",
       "      <td>1.000000</td>\n",
       "    </tr>\n",
       "  </tbody>\n",
       "</table>\n",
       "</div>"
      ],
      "text/plain": [
       "             nodegr     black      hisp       age      educ   married  \\\n",
       "nodegr     1.000000  0.041948  0.086638 -0.112838 -0.635575 -0.038554   \n",
       "black      0.041948  1.000000 -0.693969  0.087171  0.045405  0.023731   \n",
       "hisp       0.086638 -0.693969  1.000000 -0.090157 -0.144835  0.009064   \n",
       "age       -0.112838  0.087171 -0.090157  1.000000  0.022964  0.210072   \n",
       "educ      -0.635575  0.045405 -0.144835  0.022964  1.000000  0.081613   \n",
       "married   -0.038554  0.023731  0.009064  0.210072  0.081613  1.000000   \n",
       "u74        0.049934  0.030152 -0.046158  0.102457 -0.092843 -0.080614   \n",
       "u75        0.079798  0.038685  0.011191  0.075597 -0.127603 -0.096973   \n",
       "Treatment -0.151012  0.021602 -0.084066  0.052977  0.070890  0.046531   \n",
       "Outcome   -0.045548 -0.167117  0.120627 -0.010435  0.004852  0.027178   \n",
       "\n",
       "                u74       u75  Treatment   Outcome  \n",
       "nodegr     0.049934  0.079798  -0.151012 -0.045548  \n",
       "black      0.030152  0.038685   0.021602 -0.167117  \n",
       "hisp      -0.046158  0.011191  -0.084066  0.120627  \n",
       "age        0.102457  0.075597   0.052977 -0.010435  \n",
       "educ      -0.092843 -0.127603   0.070890  0.004852  \n",
       "married   -0.080614 -0.096973   0.046531  0.027178  \n",
       "u74        1.000000  0.726574  -0.046647 -0.061988  \n",
       "u75        0.726574  1.000000  -0.087400 -0.061491  \n",
       "Treatment -0.046647 -0.087400   1.000000  0.118087  \n",
       "Outcome   -0.061988 -0.061491   0.118087  1.000000  "
      ]
     },
     "execution_count": 9,
     "metadata": {},
     "output_type": "execute_result"
    }
   ],
   "source": [
    "df.corr()"
   ]
  },
  {
   "cell_type": "markdown",
   "metadata": {},
   "source": [
    "## Apply pylift"
   ]
  },
  {
   "cell_type": "code",
   "execution_count": 10,
   "metadata": {},
   "outputs": [
    {
     "name": "stdout",
     "output_type": "stream",
     "text": [
      "Fitting 3 folds for each of 20 candidates, totalling 60 fits\n"
     ]
    },
    {
     "name": "stderr",
     "output_type": "stream",
     "text": [
      "[Parallel(n_jobs=10)]: Done  12 tasks      | elapsed:   16.0s\n",
      "[Parallel(n_jobs=10)]: Done  60 out of  60 | elapsed:   17.2s finished\n"
     ]
    },
    {
     "name": "stdout",
     "output_type": "stream",
     "text": [
      "Seed 0 finished.\n",
      "Seed 1 finished.\n",
      "Seed 2 finished.\n",
      "Seed 3 finished.\n",
      "Seed 4 finished.\n"
     ]
    },
    {
     "data": {
      "text/plain": [
       "<matplotlib.axes._subplots.AxesSubplot at 0x27b300fdef0>"
      ]
     },
     "execution_count": 10,
     "metadata": {},
     "output_type": "execute_result"
    },
    {
     "data": {
      "image/png": "[encoded data removed]",
      "text/plain": [
       "<matplotlib.figure.Figure at 0x27b2faac710>"
      ]
     },
     "metadata": {},
     "output_type": "display_data"
    }
   ],
   "source": [
    "up = TransformedOutcome(df, col_treatment='Treatment', col_outcome='Outcome', stratify=df['Treatment'])\n",
    "up.randomized_search(n_iter=20, n_jobs=10, random_state=1)\n",
    "up.shuffle_fit(params=up.rand_search_.best_params_, nthread=30, iterations=5)\n",
    "up.plot(show_shuffle_fits=True)"
   ]
  },
  {
   "cell_type": "markdown",
   "metadata": {
    "ExecuteTime": {
     "end_time": "2018-04-25T19:45:02.791303Z",
     "start_time": "2018-04-25T19:45:02.760722Z"
    }
   },
   "source": [
    "# *<font color=\"#668b8b\">Check docstrings (and let us know if anything is weird)!</font>*"
   ]
  }
 ],
 "metadata": {
  "kernelspec": {
   "display_name": "Python 3",
   "language": "python",
   "name": "python3"
  },
  "language_info": {
   "codemirror_mode": {
    "name": "ipython",
    "version": 3
   },
   "file_extension": ".py",
   "mimetype": "text/x-python",
   "name": "python",
   "nbconvert_exporter": "python",
   "pygments_lexer": "ipython3",
   "version": "3.6.3"
  }
 },
 "nbformat": 4,
 "nbformat_minor": 2
}
